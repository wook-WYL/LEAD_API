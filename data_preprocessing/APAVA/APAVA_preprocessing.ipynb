{
 "nbformat": 4,
 "nbformat_minor": 0,
 "metadata": {
  "colab": {
   "provenance": [],
   "authorship_tag": "ABX9TyNe8pcEyzi3pl5M5WFhQh2o"
  },
  "kernelspec": {
   "name": "python3",
   "display_name": "Python 3 (ipykernel)",
   "language": "python"
  },
  "language_info": {
   "name": "python"
  }
 },
 "cells": [
  {
   "cell_type": "code",
   "metadata": {
    "id": "oD1qjs_ntE_p",
    "executionInfo": {
     "status": "ok",
     "timestamp": 1679030666762,
     "user_tz": 240,
     "elapsed": 3,
     "user": {
      "displayName": "Lucian",
      "userId": "17113640720459928730"
     }
    },
    "ExecuteTime": {
     "end_time": "2024-11-15T02:33:43.330659Z",
     "start_time": "2024-11-15T02:33:43.318155Z"
    }
   },
   "source": [
    "import os\n",
    "import numpy as np\n",
    "import scipy.io as sio\n",
    "import mne\n",
    "from scipy.signal import resample"
   ],
   "outputs": [],
   "execution_count": 8
  },
  {
   "metadata": {},
   "cell_type": "code",
   "outputs": [],
   "execution_count": null,
   "source": [
    "SAMPLE_RATE = 128  # fs\n",
    "SAMPLE_LEN = 128   # T"
   ]
  },
  {
   "cell_type": "markdown",
   "source": [
    "## Official script"
   ],
   "metadata": {
    "collapsed": false
   }
  },
  {
   "cell_type": "code",
   "source": [
    "filenames = []\n",
    "for filename in os.listdir(\"APAVA/\"):\n",
    "  filenames.append(filename)"
   ],
   "metadata": {
    "id": "HssqLKxCVbeo",
    "executionInfo": {
     "status": "ok",
     "timestamp": 1679030740997,
     "user_tz": 240,
     "elapsed": 660,
     "user": {
      "displayName": "Lucian",
      "userId": "17113640720459928730"
     }
    },
    "ExecuteTime": {
     "end_time": "2024-11-15T02:33:43.393665Z",
     "start_time": "2024-11-15T02:33:43.374663Z"
    }
   },
   "outputs": [],
   "execution_count": 9
  },
  {
   "cell_type": "code",
   "source": [
    "filenames.sort()\n",
    "# filenames"
   ],
   "metadata": {
    "id": "xQJTR4l-WGfC",
    "executionInfo": {
     "status": "ok",
     "timestamp": 1679030742838,
     "user_tz": 240,
     "elapsed": 531,
     "user": {
      "displayName": "Lucian",
      "userId": "17113640720459928730"
     }
    },
    "ExecuteTime": {
     "end_time": "2024-11-15T02:33:43.409664Z",
     "start_time": "2024-11-15T02:33:43.394665Z"
    }
   },
   "outputs": [],
   "execution_count": 10
  },
  {
   "cell_type": "code",
   "source": [
    "feature_path = 'Processed/APAVA/Feature'\n",
    "if not os.path.exists(feature_path):\n",
    "    os.makedirs(feature_path)"
   ],
   "metadata": {
    "collapsed": false,
    "ExecuteTime": {
     "end_time": "2024-11-15T02:33:43.425666Z",
     "start_time": "2024-11-15T02:33:43.410663Z"
    }
   },
   "outputs": [],
   "execution_count": 11
  },
  {
   "cell_type": "markdown",
   "source": [
    "#### Save feature"
   ],
   "metadata": {
    "id": "P7S8U9Vufwvl"
   }
  },
  {
   "metadata": {
    "ExecuteTime": {
     "end_time": "2024-11-15T02:33:43.441173Z",
     "start_time": "2024-11-15T02:33:43.426667Z"
    }
   },
   "cell_type": "code",
   "source": [
    "def resample_time_series(data, original_fs, target_fs):\n",
    "    T, C = data.shape\n",
    "    new_length = int(T * target_fs / original_fs)\n",
    "    \n",
    "    resampled_data = np.zeros((new_length, C))\n",
    "    for i in range(C):\n",
    "        resampled_data[:, i] = resample(data[:, i], new_length)\n",
    "        \n",
    "    return resampled_data"
   ],
   "outputs": [],
   "execution_count": 12
  },
  {
   "cell_type": "code",
   "source": [
    "subseq_length = SAMPLE_LEN\n",
    "stride = SAMPLE_LEN / 2  # Half of the subsequence length for half-overlapping\n",
    "for i in range(len(filenames)):\n",
    "    # print('Dataset/'+filename)\n",
    "    path = \"APAVA/\" + filenames[i]\n",
    "    mat = sio.loadmat(path)\n",
    "    mat_np = mat['data']\n",
    "\n",
    "    # Get epoch number for each subject\n",
    "    epoch_num = len(mat_np[0,0][2][0])\n",
    "    print(\"Epoch number: \",epoch_num)\n",
    "    # Each epoch has shape (1280, 16)\n",
    "    raw_shape = np.zeros((epoch_num, 1280, 16)).shape\n",
    "    features = []\n",
    "    # Store in temp\n",
    "    for j in range(epoch_num):\n",
    "        temp = np.transpose(mat_np[0,0][2][0][j])\n",
    "        data = resample_time_series(temp, 256, SAMPLE_RATE)  # Downsample to 128 Hz\n",
    "        # Calculate the number of subsequences that can be extracted\n",
    "        num_subsequences = (data.shape[0] - subseq_length) // stride + 1\n",
    "        # Extract the subsequences\n",
    "        subsequences = [data[i * stride : i * stride + subseq_length, :] for i in range(num_subsequences)]\n",
    "        feature = np.array(subsequences)\n",
    "        features.append(feature)\n",
    "    features = np.array(features).reshape((-1, subseq_length, 16))   # Reshape to (N, 128, 16)\n",
    "\n",
    "    print(f\"Filename: {filenames[i]}\")\n",
    "    print(f\"Patient ID: {i+1}\")\n",
    "    print(\"Raw data:\", raw_shape)\n",
    "    print(\"Downsampling, segmented and interpolated data\", features.shape)\n",
    "    np.save(feature_path + \"/feature_{:02d}.npy\".format(i+1),features)\n",
    "    print(\"Save feature_{:02d}.npy\".format(i+1))\n",
    "    print(\"---------------------------------------------\\n\")"
   ],
   "metadata": {
    "colab": {
     "base_uri": "https://localhost:8080/"
    },
    "id": "-I4cEuRQWKEl",
    "executionInfo": {
     "status": "ok",
     "timestamp": 1679030775070,
     "user_tz": 240,
     "elapsed": 31311,
     "user": {
      "displayName": "Lucian",
      "userId": "17113640720459928730"
     }
    },
    "outputId": "3a3e8a50-a266-4a66-b3c8-09b8b7e30c8e",
    "ExecuteTime": {
     "end_time": "2024-11-15T02:33:44.479670Z",
     "start_time": "2024-11-15T02:33:43.442173Z"
    }
   },
   "outputs": [
    {
     "name": "stdout",
     "output_type": "stream",
     "text": [
      "Epoch number:  35\n",
      "Filename: preproctrials01.mat\n",
      "Patient ID: 1\n",
      "Raw data: (35, 1280, 16)\n",
      "Downsampling, segmented and interpolated data (315, 128, 16)\n",
      "Save feature_01.npy\n",
      "---------------------------------------------\n",
      "\n",
      "Epoch number:  25\n",
      "Filename: preproctrials02.mat\n",
      "Patient ID: 2\n",
      "Raw data: (25, 1280, 16)\n",
      "Downsampling, segmented and interpolated data (225, 128, 16)\n",
      "Save feature_02.npy\n",
      "---------------------------------------------\n",
      "\n",
      "Epoch number:  10\n",
      "Filename: preproctrials03.mat\n",
      "Patient ID: 3\n",
      "Raw data: (10, 1280, 16)\n",
      "Downsampling, segmented and interpolated data (90, 128, 16)\n",
      "Save feature_03.npy\n",
      "---------------------------------------------\n",
      "\n",
      "Epoch number:  33\n",
      "Filename: preproctrials04.mat\n",
      "Patient ID: 4\n",
      "Raw data: (33, 1280, 16)\n",
      "Downsampling, segmented and interpolated data (297, 128, 16)\n",
      "Save feature_04.npy\n",
      "---------------------------------------------\n",
      "\n",
      "Epoch number:  1\n",
      "Filename: preproctrials05.mat\n",
      "Patient ID: 5\n",
      "Raw data: (1, 1280, 16)\n",
      "Downsampling, segmented and interpolated data (9, 128, 16)\n",
      "Save feature_05.npy\n",
      "---------------------------------------------\n",
      "\n",
      "Epoch number:  22\n",
      "Filename: preproctrials06.mat\n",
      "Patient ID: 6\n",
      "Raw data: (22, 1280, 16)\n",
      "Downsampling, segmented and interpolated data (198, 128, 16)\n",
      "Save feature_06.npy\n",
      "---------------------------------------------\n",
      "\n",
      "Epoch number:  3\n",
      "Filename: preproctrials07.mat\n",
      "Patient ID: 7\n",
      "Raw data: (3, 1280, 16)\n",
      "Downsampling, segmented and interpolated data (27, 128, 16)\n",
      "Save feature_07.npy\n",
      "---------------------------------------------\n",
      "\n",
      "Epoch number:  32\n",
      "Filename: preproctrials08.mat\n",
      "Patient ID: 8\n",
      "Raw data: (32, 1280, 16)\n",
      "Downsampling, segmented and interpolated data (288, 128, 16)\n",
      "Save feature_08.npy\n",
      "---------------------------------------------\n",
      "\n",
      "Epoch number:  18\n",
      "Filename: preproctrials09.mat\n",
      "Patient ID: 9\n",
      "Raw data: (18, 1280, 16)\n",
      "Downsampling, segmented and interpolated data (162, 128, 16)\n",
      "Save feature_09.npy\n",
      "---------------------------------------------\n",
      "\n",
      "Epoch number:  38\n",
      "Filename: preproctrials10.mat\n",
      "Patient ID: 10\n",
      "Raw data: (38, 1280, 16)\n",
      "Downsampling, segmented and interpolated data (342, 128, 16)\n",
      "Save feature_10.npy\n",
      "---------------------------------------------\n",
      "\n",
      "Epoch number:  47\n",
      "Filename: preproctrials11.mat\n",
      "Patient ID: 11\n",
      "Raw data: (47, 1280, 16)\n",
      "Downsampling, segmented and interpolated data (423, 128, 16)\n",
      "Save feature_11.npy\n",
      "---------------------------------------------\n",
      "\n",
      "Epoch number:  37\n",
      "Filename: preproctrials12.mat\n",
      "Patient ID: 12\n",
      "Raw data: (37, 1280, 16)\n",
      "Downsampling, segmented and interpolated data (333, 128, 16)\n",
      "Save feature_12.npy\n",
      "---------------------------------------------\n",
      "\n",
      "Epoch number:  29\n",
      "Filename: preproctrials13.mat\n",
      "Patient ID: 13\n",
      "Raw data: (29, 1280, 16)\n",
      "Downsampling, segmented and interpolated data (261, 128, 16)\n",
      "Save feature_13.npy\n",
      "---------------------------------------------\n",
      "\n",
      "Epoch number:  39\n",
      "Filename: preproctrials14.mat\n",
      "Patient ID: 14\n",
      "Raw data: (39, 1280, 16)\n",
      "Downsampling, segmented and interpolated data (351, 128, 16)\n",
      "Save feature_14.npy\n",
      "---------------------------------------------\n",
      "\n",
      "Epoch number:  46\n",
      "Filename: preproctrials15.mat\n",
      "Patient ID: 15\n",
      "Raw data: (46, 1280, 16)\n",
      "Downsampling, segmented and interpolated data (414, 128, 16)\n",
      "Save feature_15.npy\n",
      "---------------------------------------------\n",
      "\n",
      "Epoch number:  28\n",
      "Filename: preproctrials16.mat\n",
      "Patient ID: 16\n",
      "Raw data: (28, 1280, 16)\n",
      "Downsampling, segmented and interpolated data (252, 128, 16)\n",
      "Save feature_16.npy\n",
      "---------------------------------------------\n",
      "\n",
      "Epoch number:  59\n",
      "Filename: preproctrials17.mat\n",
      "Patient ID: 17\n",
      "Raw data: (59, 1280, 16)\n",
      "Downsampling, segmented and interpolated data (531, 128, 16)\n",
      "Save feature_17.npy\n",
      "---------------------------------------------\n",
      "\n",
      "Epoch number:  40\n",
      "Filename: preproctrials18.mat\n",
      "Patient ID: 18\n",
      "Raw data: (40, 1280, 16)\n",
      "Downsampling, segmented and interpolated data (360, 128, 16)\n",
      "Save feature_18.npy\n",
      "---------------------------------------------\n",
      "\n",
      "Epoch number:  46\n",
      "Filename: preproctrials19.mat\n",
      "Patient ID: 19\n",
      "Raw data: (46, 1280, 16)\n",
      "Downsampling, segmented and interpolated data (414, 128, 16)\n",
      "Save feature_19.npy\n",
      "---------------------------------------------\n",
      "\n",
      "Epoch number:  37\n",
      "Filename: preproctrials20.mat\n",
      "Patient ID: 20\n",
      "Raw data: (37, 1280, 16)\n",
      "Downsampling, segmented and interpolated data (333, 128, 16)\n",
      "Save feature_20.npy\n",
      "---------------------------------------------\n",
      "\n",
      "Epoch number:  19\n",
      "Filename: preproctrials21.mat\n",
      "Patient ID: 21\n",
      "Raw data: (19, 1280, 16)\n",
      "Downsampling, segmented and interpolated data (171, 128, 16)\n",
      "Save feature_21.npy\n",
      "---------------------------------------------\n",
      "\n",
      "Epoch number:  17\n",
      "Filename: preproctrials22.mat\n",
      "Patient ID: 22\n",
      "Raw data: (17, 1280, 16)\n",
      "Downsampling, segmented and interpolated data (153, 128, 16)\n",
      "Save feature_22.npy\n",
      "---------------------------------------------\n",
      "\n",
      "Epoch number:  2\n",
      "Filename: preproctrials23.mat\n",
      "Patient ID: 23\n",
      "Raw data: (2, 1280, 16)\n",
      "Downsampling, segmented and interpolated data (18, 128, 16)\n",
      "Save feature_23.npy\n",
      "---------------------------------------------\n",
      "\n"
     ]
    }
   ],
   "execution_count": 13
  },
  {
   "cell_type": "markdown",
   "source": [
    "#### Save label"
   ],
   "metadata": {
    "id": "2xpj3Dy6fzQP"
   }
  },
  {
   "cell_type": "code",
   "source": [
    "AD_positive = [1,3,6,8,9,11,12,13,15,17,19,21]"
   ],
   "metadata": {
    "id": "nNALAnXTf4PP",
    "ExecuteTime": {
     "end_time": "2024-11-15T02:33:44.495670Z",
     "start_time": "2024-11-15T02:33:44.483672Z"
    }
   },
   "outputs": [],
   "execution_count": 14
  },
  {
   "cell_type": "code",
   "source": [
    "labels = np.zeros((23, 2))\n",
    "len(labels)"
   ],
   "metadata": {
    "colab": {
     "base_uri": "https://localhost:8080/"
    },
    "id": "029_wjrBf4Sv",
    "executionInfo": {
     "status": "ok",
     "timestamp": 1668385155506,
     "user_tz": 300,
     "elapsed": 163,
     "user": {
      "displayName": "Lucian",
      "userId": "17113640720459928730"
     }
    },
    "outputId": "85ab79bb-07c0-4f31-c71a-2915c2d9c988",
    "ExecuteTime": {
     "end_time": "2024-11-15T02:33:44.510673Z",
     "start_time": "2024-11-15T02:33:44.496670Z"
    }
   },
   "outputs": [
    {
     "data": {
      "text/plain": [
       "23"
      ]
     },
     "execution_count": 15,
     "metadata": {},
     "output_type": "execute_result"
    }
   ],
   "execution_count": 15
  },
  {
   "cell_type": "code",
   "source": [
    "label_path = 'Processed/APAVA/Label'\n",
    "if not os.path.exists(label_path):\n",
    "    os.makedirs(label_path)"
   ],
   "metadata": {
    "collapsed": false,
    "ExecuteTime": {
     "end_time": "2024-11-15T02:33:44.525674Z",
     "start_time": "2024-11-15T02:33:44.512674Z"
    }
   },
   "outputs": [],
   "execution_count": 16
  },
  {
   "cell_type": "code",
   "source": [
    "for i in range(len(labels)):\n",
    "  # The first one is AD label (0 for healthy; 1 for AD patient)\n",
    "  # The second one is the subject label (the order of subject, ranging from 1 to 23.\n",
    "  labels[i][1] = i + 1\n",
    "  if i+1 in AD_positive:\n",
    "    labels[i][0] = 1\n",
    "  else:\n",
    "    labels[i][0] = 0"
   ],
   "metadata": {
    "id": "0XPwH3RJf4YU",
    "ExecuteTime": {
     "end_time": "2024-11-15T02:33:44.541182Z",
     "start_time": "2024-11-15T02:33:44.526674Z"
    }
   },
   "outputs": [],
   "execution_count": 17
  },
  {
   "cell_type": "code",
   "source": [
    "np.save(label_path + \"/label.npy\",labels)\n",
    "print(\"Save label\")"
   ],
   "metadata": {
    "colab": {
     "base_uri": "https://localhost:8080/"
    },
    "id": "LfEWtteafsYn",
    "executionInfo": {
     "status": "ok",
     "timestamp": 1668385694693,
     "user_tz": 300,
     "elapsed": 162,
     "user": {
      "displayName": "Lucian",
      "userId": "17113640720459928730"
     }
    },
    "outputId": "d6fa158a-b207-4c9b-c052-618a5982d526",
    "ExecuteTime": {
     "end_time": "2024-11-15T02:33:44.556182Z",
     "start_time": "2024-11-15T02:33:44.542183Z"
    }
   },
   "outputs": [
    {
     "name": "stdout",
     "output_type": "stream",
     "text": [
      "Save label\n"
     ]
    }
   ],
   "execution_count": 18
  },
  {
   "cell_type": "markdown",
   "source": [
    "## Test"
   ],
   "metadata": {
    "id": "8sgVRTVgc-sj"
   }
  },
  {
   "cell_type": "code",
   "source": [
    "# Test the saved npy file\n",
    "# example\n",
    "\n",
    "path = 'Processed/APAVA/Feature/'\n",
    "\n",
    "for file in os.listdir(path):\n",
    "    sub_path = os.path.join(path, file)\n",
    "    print(np.load(sub_path).shape)"
   ],
   "metadata": {
    "id": "-KHmMve7WpK-",
    "ExecuteTime": {
     "end_time": "2024-11-15T02:33:44.604182Z",
     "start_time": "2024-11-15T02:33:44.557182Z"
    }
   },
   "outputs": [
    {
     "name": "stdout",
     "output_type": "stream",
     "text": [
      "(315, 128, 16)\n",
      "(225, 128, 16)\n",
      "(90, 128, 16)\n",
      "(297, 128, 16)\n",
      "(9, 128, 16)\n",
      "(198, 128, 16)\n",
      "(27, 128, 16)\n",
      "(288, 128, 16)\n",
      "(162, 128, 16)\n",
      "(342, 128, 16)\n",
      "(423, 128, 16)\n",
      "(333, 128, 16)\n",
      "(261, 128, 16)\n",
      "(351, 128, 16)\n",
      "(414, 128, 16)\n",
      "(252, 128, 16)\n",
      "(531, 128, 16)\n",
      "(360, 128, 16)\n",
      "(414, 128, 16)\n",
      "(333, 128, 16)\n",
      "(171, 128, 16)\n",
      "(153, 128, 16)\n",
      "(18, 128, 16)\n"
     ]
    }
   ],
   "execution_count": 19
  },
  {
   "cell_type": "code",
   "source": "np.load(\"Processed/APAVA/Label/label.npy\")",
   "metadata": {
    "colab": {
     "base_uri": "https://localhost:8080/"
    },
    "id": "fALGwF4ndcr0",
    "executionInfo": {
     "status": "ok",
     "timestamp": 1668385699716,
     "user_tz": 300,
     "elapsed": 177,
     "user": {
      "displayName": "Lucian",
      "userId": "17113640720459928730"
     }
    },
    "outputId": "7b5db342-5b77-48ff-bb9f-2298a879cdda",
    "ExecuteTime": {
     "end_time": "2024-11-15T02:33:44.620191Z",
     "start_time": "2024-11-15T02:33:44.605183Z"
    }
   },
   "outputs": [
    {
     "data": {
      "text/plain": [
       "array([[ 1.,  1.],\n",
       "       [ 0.,  2.],\n",
       "       [ 1.,  3.],\n",
       "       [ 0.,  4.],\n",
       "       [ 0.,  5.],\n",
       "       [ 1.,  6.],\n",
       "       [ 0.,  7.],\n",
       "       [ 1.,  8.],\n",
       "       [ 1.,  9.],\n",
       "       [ 0., 10.],\n",
       "       [ 1., 11.],\n",
       "       [ 1., 12.],\n",
       "       [ 1., 13.],\n",
       "       [ 0., 14.],\n",
       "       [ 1., 15.],\n",
       "       [ 0., 16.],\n",
       "       [ 1., 17.],\n",
       "       [ 0., 18.],\n",
       "       [ 1., 19.],\n",
       "       [ 0., 20.],\n",
       "       [ 1., 21.],\n",
       "       [ 0., 22.],\n",
       "       [ 0., 23.]])"
      ]
     },
     "execution_count": 20,
     "metadata": {},
     "output_type": "execute_result"
    }
   ],
   "execution_count": 20
  },
  {
   "cell_type": "code",
   "source": [],
   "metadata": {
    "id": "P9btuIIviM84",
    "ExecuteTime": {
     "end_time": "2024-11-15T02:33:44.635463Z",
     "start_time": "2024-11-15T02:33:44.621190Z"
    }
   },
   "outputs": [],
   "execution_count": 20
  }
 ]
}
